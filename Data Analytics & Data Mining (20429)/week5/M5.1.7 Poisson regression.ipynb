{
  "nbformat": 4,
  "nbformat_minor": 0,
  "metadata": {
    "colab": {
      "provenance": []
    },
    "kernelspec": {
      "name": "python3",
      "display_name": "Python 3"
    }
  },
  "cells": [
    {
      "cell_type": "markdown",
      "metadata": {
        "id": "IdtEPQhRfMcP"
      },
      "source": [
        "#**Poisson Regression**\n",
        "In probability theory and statistics, the Poisson distribution was discovered by Siméon Denis Poisson. It is a discrete probability distribution that expresses the probability of a given number of events occurring in a fixed interval of time or space if these events occur with a known constant mean rate and independently of the time since the last event, [1]. The Poisson distribution comes from the exponential family of distributions and has the following discrete probablitity density function for a random variable $X$ :\n",
        "\n",
        "$$f(k,\\lambda) = Pr(X=k)= \\frac{\\lambda^k.e^{-\\lambda}}{k!}$$\n",
        "\n",
        "where $\\lambda>0$ if for k=0,1,2,..\n",
        "and the $E(X)=\\lambda$ and the variance is also equal to $\\lambda$\n",
        "\n",
        "Typical examples of this would be counting the number of road accidents on a particular stretch of road during a time interval. We could then use the poisson to calcualte the probability of $k$ number of accidents in the time interval. The $\\lambda$ is usually desctribed as the average number of accidents in a time interval, eg the average number per week.. It also assumes we have no information about the sample size $N$. In theory as $N->\\infty$ the binomal distribution tends to the poisson distribution.The possion distribution is a special case of another distribution exponential distribution called the negative binomial distribution, which does not assume you have a constant variance. Figure 1 shows the differing types of distribution in the GLM family. You will see how the poisson and the negative binomial have very simalar characteristics.\n",
        "\n",
        "<figure>\n",
        "<center>\n",
        "<img src='https://www.computing.dcu.ie/~amccarren/mcm_images/GLM_models.png' />\n",
        "<figcaption>Figure 2: Link function options</figcaption>\n",
        "</center>\n",
        "</figure>\n",
        "\n",
        "\n",
        "Now we regulary count, for example, the number of events in a month or a week . In many situations we have predictor variables that we want to use to predict these events. For example consider the situation we mentioned before about the number of road accidents on a given stretch of road. It would be reasonable for the road authority to wonder if weather conditions, speed limit or the time of the day had any influence on the number of accidents in a given period. This is where poisson regression comes in and we can use pythons GLM library to implement it.\n",
        "\n",
        "Lets have a look at some python code."
      ]
    },
    {
      "cell_type": "markdown",
      "metadata": {
        "id": "W-nZ_6zzxG0h"
      },
      "source": [
        "**A Poisson regression model**\n",
        "\n",
        "Count based data contains events that occur at a certain rate. The rate of occurrence may change over time or from one observation to next. Here are some examples of count based data:\n",
        "\n",
        "* Number of vehicles crossing an intersection per hour,\n",
        "* Number of people visiting a doctor’s office per month,\n",
        "* Number of earth-like planets spotted per month.\n",
        "* A data set of counts has the following characteristics:\n",
        "* Whole number data: The data consists of non-negative integers: [0… ∞] Regression techniques such as Ordinary Least Squares Regression may not be appropriate for modeling such data as OLSR works best on real numbers such as -656.0, -0.00000345, 13786.1 etc.\n",
        "\n",
        "* Skewed Distribution: The data may contain a large number of data points for just a few values, thereby making the frequency distribution quite skewed. See for example above histogram.\n",
        "* Sparsity: The data may reflect the occurrence of a rare event such as a gamma ray burst, thereby making the data sparse.\n",
        "* Rate of occurrence: For the sake of creating a model, it can be assumed that there is a certain rate of occurrence of events λ that drives the generation of such data. The event rate may drift over time.\n",
        "\n",
        "Let us examine a more common situation, one where λ can change from one observation to the next. In this case, we assume that the value of λ is influenced by a vector of explanatory variables or predictors X. A poison regression approach could help us predict the the occurence count given certrian conditions or help us determine which variable may influence the outcome.\n",
        "\n",
        "As usual by now we open up a folder on google drive use the mount drive method.\n",
        "\n"
      ]
    },
    {
      "cell_type": "code",
      "metadata": {
        "id": "ZTL-OFaoejg-",
        "outputId": "dd46dc25-a8ed-44ec-a959-e883cfa30209",
        "colab": {
          "base_uri": "https://localhost:8080/"
        }
      },
      "source": [
        "# Load the Drive helper and mount\n",
        "from google.colab import drive\n",
        "drive.mount('/content/drive')\n",
        "\n",
        "import os\n",
        "os.chdir(\"/content/drive/My Drive/dcu/future Learn_v2/MOOC 5 - CA683 - Point Estimation and Future Impact Calculation/M5 Colab Files/Data\")\n",
        "!ls"
      ],
      "execution_count": null,
      "outputs": [
        {
          "output_type": "stream",
          "name": "stdout",
          "text": [
            "Mounted at /content/drive\n",
            "calories.csv\t\t\t  poisson_predictions.csv\n",
            "exercise.csv\t\t\t  SN_m_tot_V2.0.csv\n",
            "nyc_bb_bicyclist_counts.csv\t  student_mat.csv\n",
            "nyc_bb_bicyclist_counts_test.csv  Telco-Customer-Churn.csv\n"
          ]
        }
      ]
    },
    {
      "cell_type": "markdown",
      "metadata": {
        "id": "0QrmsNug1SYI"
      },
      "source": [
        "Import the data for this example from [here](https://www.computing.dcu.ie/~amccarren/mcm_data/nyc_bb_bicyclist_counts.csv). This is the Daily total of bike counts conducted on the Brooklyn Bridge from 01 April 2017 to 31 October 2017. Source: [NYC Open Data: Bicycle Counts for East River Bridges.](https://gist.github.com/sachinsdate/c17931a3f000492c1c42cf78bf4ce9fe).   In the NYC bicyclist counts data set, the regression variables are Date, Day of Week, High Temp, Low Temp and Precipitation. We also introduce additional regressors such as Month and Day of Month that are derived from Date, and we have the liberty to drop existing regressors such as Date."
      ]
    },
    {
      "cell_type": "code",
      "metadata": {
        "id": "2o_dbQjC0fBW",
        "outputId": "8e8182bf-8dfb-4c7d-e26a-3e0ac57c0981",
        "colab": {
          "base_uri": "https://localhost:8080/"
        }
      },
      "source": [
        "import pandas as pd\n",
        "df = pd.read_csv('nyc_bb_bicyclist_counts.csv', header=0, infer_datetime_format=True, parse_dates=[0], index_col=[0])\n",
        "print(df)"
      ],
      "execution_count": null,
      "outputs": [
        {
          "output_type": "stream",
          "name": "stdout",
          "text": [
            "            HIGH_T  LOW_T  PRECIP  BB_COUNT\n",
            "Date                                       \n",
            "2017-04-01    46.0   37.0    0.00       606\n",
            "2017-04-02    62.1   41.0    0.00      2021\n",
            "2017-04-03    63.0   50.0    0.03      2470\n",
            "2017-04-04    51.1   46.0    1.18       723\n",
            "2017-04-05    63.0   46.0    0.00      2807\n",
            "...            ...    ...     ...       ...\n",
            "2017-10-27    62.1   48.0    0.00      3150\n",
            "2017-10-28    68.0   55.9    0.00      2245\n",
            "2017-10-29    64.9   61.0    3.03       183\n",
            "2017-10-30    55.0   46.0    0.25      1428\n",
            "2017-10-31    54.0   44.0    0.00      2727\n",
            "\n",
            "[214 rows x 4 columns]\n"
          ]
        }
      ]
    },
    {
      "cell_type": "markdown",
      "metadata": {
        "id": "f9s4ZNIl8Xz2"
      },
      "source": [
        "We extract the day, day of the week and  month from the date index."
      ]
    },
    {
      "cell_type": "code",
      "metadata": {
        "id": "cnkct4318XL4",
        "outputId": "dd848c0f-e3cf-4b93-c9ff-1ccdcfbee5dc",
        "colab": {
          "base_uri": "https://localhost:8080/",
          "height": 238
        }
      },
      "source": [
        "ds = df.index.to_series()\n",
        "df['MONTH'] = ds.dt.month\n",
        "df['DAY_OF_WEEK'] = ds.dt.dayofweek\n",
        "df['DAY'] = ds.dt.day\n",
        "#df.head()\n",
        "#X=df[['HIGH_T', 'LOW_T', 'PRECIP',  'MONTH', 'DAY_OF_WEEK', 'DAY']]\n",
        "X=df[['HIGH_T', 'LOW_T', 'PRECIP']]\n",
        "\n",
        "y=df[[\"BB_COUNT\"]]\n",
        "df.head()\n"
      ],
      "execution_count": null,
      "outputs": [
        {
          "output_type": "execute_result",
          "data": {
            "text/plain": [
              "            HIGH_T  LOW_T  PRECIP  BB_COUNT  MONTH  DAY_OF_WEEK  DAY\n",
              "Date                                                                \n",
              "2017-04-01    46.0   37.0    0.00       606      4            5    1\n",
              "2017-04-02    62.1   41.0    0.00      2021      4            6    2\n",
              "2017-04-03    63.0   50.0    0.03      2470      4            0    3\n",
              "2017-04-04    51.1   46.0    1.18       723      4            1    4\n",
              "2017-04-05    63.0   46.0    0.00      2807      4            2    5"
            ],
            "text/html": [
              "\n",
              "  <div id=\"df-c0d72f56-5e04-49b3-9809-ba7a021eabb7\">\n",
              "    <div class=\"colab-df-container\">\n",
              "      <div>\n",
              "<style scoped>\n",
              "    .dataframe tbody tr th:only-of-type {\n",
              "        vertical-align: middle;\n",
              "    }\n",
              "\n",
              "    .dataframe tbody tr th {\n",
              "        vertical-align: top;\n",
              "    }\n",
              "\n",
              "    .dataframe thead th {\n",
              "        text-align: right;\n",
              "    }\n",
              "</style>\n",
              "<table border=\"1\" class=\"dataframe\">\n",
              "  <thead>\n",
              "    <tr style=\"text-align: right;\">\n",
              "      <th></th>\n",
              "      <th>HIGH_T</th>\n",
              "      <th>LOW_T</th>\n",
              "      <th>PRECIP</th>\n",
              "      <th>BB_COUNT</th>\n",
              "      <th>MONTH</th>\n",
              "      <th>DAY_OF_WEEK</th>\n",
              "      <th>DAY</th>\n",
              "    </tr>\n",
              "    <tr>\n",
              "      <th>Date</th>\n",
              "      <th></th>\n",
              "      <th></th>\n",
              "      <th></th>\n",
              "      <th></th>\n",
              "      <th></th>\n",
              "      <th></th>\n",
              "      <th></th>\n",
              "    </tr>\n",
              "  </thead>\n",
              "  <tbody>\n",
              "    <tr>\n",
              "      <th>2017-04-01</th>\n",
              "      <td>46.0</td>\n",
              "      <td>37.0</td>\n",
              "      <td>0.00</td>\n",
              "      <td>606</td>\n",
              "      <td>4</td>\n",
              "      <td>5</td>\n",
              "      <td>1</td>\n",
              "    </tr>\n",
              "    <tr>\n",
              "      <th>2017-04-02</th>\n",
              "      <td>62.1</td>\n",
              "      <td>41.0</td>\n",
              "      <td>0.00</td>\n",
              "      <td>2021</td>\n",
              "      <td>4</td>\n",
              "      <td>6</td>\n",
              "      <td>2</td>\n",
              "    </tr>\n",
              "    <tr>\n",
              "      <th>2017-04-03</th>\n",
              "      <td>63.0</td>\n",
              "      <td>50.0</td>\n",
              "      <td>0.03</td>\n",
              "      <td>2470</td>\n",
              "      <td>4</td>\n",
              "      <td>0</td>\n",
              "      <td>3</td>\n",
              "    </tr>\n",
              "    <tr>\n",
              "      <th>2017-04-04</th>\n",
              "      <td>51.1</td>\n",
              "      <td>46.0</td>\n",
              "      <td>1.18</td>\n",
              "      <td>723</td>\n",
              "      <td>4</td>\n",
              "      <td>1</td>\n",
              "      <td>4</td>\n",
              "    </tr>\n",
              "    <tr>\n",
              "      <th>2017-04-05</th>\n",
              "      <td>63.0</td>\n",
              "      <td>46.0</td>\n",
              "      <td>0.00</td>\n",
              "      <td>2807</td>\n",
              "      <td>4</td>\n",
              "      <td>2</td>\n",
              "      <td>5</td>\n",
              "    </tr>\n",
              "  </tbody>\n",
              "</table>\n",
              "</div>\n",
              "      <button class=\"colab-df-convert\" onclick=\"convertToInteractive('df-c0d72f56-5e04-49b3-9809-ba7a021eabb7')\"\n",
              "              title=\"Convert this dataframe to an interactive table.\"\n",
              "              style=\"display:none;\">\n",
              "        \n",
              "  <svg xmlns=\"http://www.w3.org/2000/svg\" height=\"24px\"viewBox=\"0 0 24 24\"\n",
              "       width=\"24px\">\n",
              "    <path d=\"M0 0h24v24H0V0z\" fill=\"none\"/>\n",
              "    <path d=\"M18.56 5.44l.94 2.06.94-2.06 2.06-.94-2.06-.94-.94-2.06-.94 2.06-2.06.94zm-11 1L8.5 8.5l.94-2.06 2.06-.94-2.06-.94L8.5 2.5l-.94 2.06-2.06.94zm10 10l.94 2.06.94-2.06 2.06-.94-2.06-.94-.94-2.06-.94 2.06-2.06.94z\"/><path d=\"M17.41 7.96l-1.37-1.37c-.4-.4-.92-.59-1.43-.59-.52 0-1.04.2-1.43.59L10.3 9.45l-7.72 7.72c-.78.78-.78 2.05 0 2.83L4 21.41c.39.39.9.59 1.41.59.51 0 1.02-.2 1.41-.59l7.78-7.78 2.81-2.81c.8-.78.8-2.07 0-2.86zM5.41 20L4 18.59l7.72-7.72 1.47 1.35L5.41 20z\"/>\n",
              "  </svg>\n",
              "      </button>\n",
              "      \n",
              "  <style>\n",
              "    .colab-df-container {\n",
              "      display:flex;\n",
              "      flex-wrap:wrap;\n",
              "      gap: 12px;\n",
              "    }\n",
              "\n",
              "    .colab-df-convert {\n",
              "      background-color: #E8F0FE;\n",
              "      border: none;\n",
              "      border-radius: 50%;\n",
              "      cursor: pointer;\n",
              "      display: none;\n",
              "      fill: #1967D2;\n",
              "      height: 32px;\n",
              "      padding: 0 0 0 0;\n",
              "      width: 32px;\n",
              "    }\n",
              "\n",
              "    .colab-df-convert:hover {\n",
              "      background-color: #E2EBFA;\n",
              "      box-shadow: 0px 1px 2px rgba(60, 64, 67, 0.3), 0px 1px 3px 1px rgba(60, 64, 67, 0.15);\n",
              "      fill: #174EA6;\n",
              "    }\n",
              "\n",
              "    [theme=dark] .colab-df-convert {\n",
              "      background-color: #3B4455;\n",
              "      fill: #D2E3FC;\n",
              "    }\n",
              "\n",
              "    [theme=dark] .colab-df-convert:hover {\n",
              "      background-color: #434B5C;\n",
              "      box-shadow: 0px 1px 3px 1px rgba(0, 0, 0, 0.15);\n",
              "      filter: drop-shadow(0px 1px 2px rgba(0, 0, 0, 0.3));\n",
              "      fill: #FFFFFF;\n",
              "    }\n",
              "  </style>\n",
              "\n",
              "      <script>\n",
              "        const buttonEl =\n",
              "          document.querySelector('#df-c0d72f56-5e04-49b3-9809-ba7a021eabb7 button.colab-df-convert');\n",
              "        buttonEl.style.display =\n",
              "          google.colab.kernel.accessAllowed ? 'block' : 'none';\n",
              "\n",
              "        async function convertToInteractive(key) {\n",
              "          const element = document.querySelector('#df-c0d72f56-5e04-49b3-9809-ba7a021eabb7');\n",
              "          const dataTable =\n",
              "            await google.colab.kernel.invokeFunction('convertToInteractive',\n",
              "                                                     [key], {});\n",
              "          if (!dataTable) return;\n",
              "\n",
              "          const docLinkHtml = 'Like what you see? Visit the ' +\n",
              "            '<a target=\"_blank\" href=https://colab.research.google.com/notebooks/data_table.ipynb>data table notebook</a>'\n",
              "            + ' to learn more about interactive tables.';\n",
              "          element.innerHTML = '';\n",
              "          dataTable['output_type'] = 'display_data';\n",
              "          await google.colab.output.renderOutput(dataTable, element);\n",
              "          const docLink = document.createElement('div');\n",
              "          docLink.innerHTML = docLinkHtml;\n",
              "          element.appendChild(docLink);\n",
              "        }\n",
              "      </script>\n",
              "    </div>\n",
              "  </div>\n",
              "  "
            ]
          },
          "metadata": {},
          "execution_count": 4
        }
      ]
    },
    {
      "cell_type": "markdown",
      "metadata": {
        "id": "YPShtaNXAopG"
      },
      "source": [
        "We split the data into taining and test."
      ]
    },
    {
      "cell_type": "code",
      "metadata": {
        "id": "uhNE0gIO9CfH",
        "outputId": "f43b6759-92ce-4b0c-d5aa-d3224b7feeaf",
        "colab": {
          "base_uri": "https://localhost:8080/",
          "height": 238
        }
      },
      "source": [
        "import numpy as np\n",
        "from sklearn.model_selection import train_test_split\n",
        "X_train, X_test, y_train, y_test = train_test_split(X, y, test_size=0.2, random_state=42)\n",
        "y_test.head()\n",
        "#y_train, X_train = dmatrices(expr, df_train, return_type='dataframe')\n",
        "#y_test, X_test = dmatrices(expr, df_test, return_type='dataframe')"
      ],
      "execution_count": null,
      "outputs": [
        {
          "output_type": "execute_result",
          "data": {
            "text/plain": [
              "            BB_COUNT\n",
              "Date                \n",
              "2017-04-10      3324\n",
              "2017-10-15      2169\n",
              "2017-06-06      1193\n",
              "2017-10-09       898\n",
              "2017-07-27      3287"
            ],
            "text/html": [
              "\n",
              "  <div id=\"df-86edbbb8-2a07-407e-88a7-929a134acfa0\">\n",
              "    <div class=\"colab-df-container\">\n",
              "      <div>\n",
              "<style scoped>\n",
              "    .dataframe tbody tr th:only-of-type {\n",
              "        vertical-align: middle;\n",
              "    }\n",
              "\n",
              "    .dataframe tbody tr th {\n",
              "        vertical-align: top;\n",
              "    }\n",
              "\n",
              "    .dataframe thead th {\n",
              "        text-align: right;\n",
              "    }\n",
              "</style>\n",
              "<table border=\"1\" class=\"dataframe\">\n",
              "  <thead>\n",
              "    <tr style=\"text-align: right;\">\n",
              "      <th></th>\n",
              "      <th>BB_COUNT</th>\n",
              "    </tr>\n",
              "    <tr>\n",
              "      <th>Date</th>\n",
              "      <th></th>\n",
              "    </tr>\n",
              "  </thead>\n",
              "  <tbody>\n",
              "    <tr>\n",
              "      <th>2017-04-10</th>\n",
              "      <td>3324</td>\n",
              "    </tr>\n",
              "    <tr>\n",
              "      <th>2017-10-15</th>\n",
              "      <td>2169</td>\n",
              "    </tr>\n",
              "    <tr>\n",
              "      <th>2017-06-06</th>\n",
              "      <td>1193</td>\n",
              "    </tr>\n",
              "    <tr>\n",
              "      <th>2017-10-09</th>\n",
              "      <td>898</td>\n",
              "    </tr>\n",
              "    <tr>\n",
              "      <th>2017-07-27</th>\n",
              "      <td>3287</td>\n",
              "    </tr>\n",
              "  </tbody>\n",
              "</table>\n",
              "</div>\n",
              "      <button class=\"colab-df-convert\" onclick=\"convertToInteractive('df-86edbbb8-2a07-407e-88a7-929a134acfa0')\"\n",
              "              title=\"Convert this dataframe to an interactive table.\"\n",
              "              style=\"display:none;\">\n",
              "        \n",
              "  <svg xmlns=\"http://www.w3.org/2000/svg\" height=\"24px\"viewBox=\"0 0 24 24\"\n",
              "       width=\"24px\">\n",
              "    <path d=\"M0 0h24v24H0V0z\" fill=\"none\"/>\n",
              "    <path d=\"M18.56 5.44l.94 2.06.94-2.06 2.06-.94-2.06-.94-.94-2.06-.94 2.06-2.06.94zm-11 1L8.5 8.5l.94-2.06 2.06-.94-2.06-.94L8.5 2.5l-.94 2.06-2.06.94zm10 10l.94 2.06.94-2.06 2.06-.94-2.06-.94-.94-2.06-.94 2.06-2.06.94z\"/><path d=\"M17.41 7.96l-1.37-1.37c-.4-.4-.92-.59-1.43-.59-.52 0-1.04.2-1.43.59L10.3 9.45l-7.72 7.72c-.78.78-.78 2.05 0 2.83L4 21.41c.39.39.9.59 1.41.59.51 0 1.02-.2 1.41-.59l7.78-7.78 2.81-2.81c.8-.78.8-2.07 0-2.86zM5.41 20L4 18.59l7.72-7.72 1.47 1.35L5.41 20z\"/>\n",
              "  </svg>\n",
              "      </button>\n",
              "      \n",
              "  <style>\n",
              "    .colab-df-container {\n",
              "      display:flex;\n",
              "      flex-wrap:wrap;\n",
              "      gap: 12px;\n",
              "    }\n",
              "\n",
              "    .colab-df-convert {\n",
              "      background-color: #E8F0FE;\n",
              "      border: none;\n",
              "      border-radius: 50%;\n",
              "      cursor: pointer;\n",
              "      display: none;\n",
              "      fill: #1967D2;\n",
              "      height: 32px;\n",
              "      padding: 0 0 0 0;\n",
              "      width: 32px;\n",
              "    }\n",
              "\n",
              "    .colab-df-convert:hover {\n",
              "      background-color: #E2EBFA;\n",
              "      box-shadow: 0px 1px 2px rgba(60, 64, 67, 0.3), 0px 1px 3px 1px rgba(60, 64, 67, 0.15);\n",
              "      fill: #174EA6;\n",
              "    }\n",
              "\n",
              "    [theme=dark] .colab-df-convert {\n",
              "      background-color: #3B4455;\n",
              "      fill: #D2E3FC;\n",
              "    }\n",
              "\n",
              "    [theme=dark] .colab-df-convert:hover {\n",
              "      background-color: #434B5C;\n",
              "      box-shadow: 0px 1px 3px 1px rgba(0, 0, 0, 0.15);\n",
              "      filter: drop-shadow(0px 1px 2px rgba(0, 0, 0, 0.3));\n",
              "      fill: #FFFFFF;\n",
              "    }\n",
              "  </style>\n",
              "\n",
              "      <script>\n",
              "        const buttonEl =\n",
              "          document.querySelector('#df-86edbbb8-2a07-407e-88a7-929a134acfa0 button.colab-df-convert');\n",
              "        buttonEl.style.display =\n",
              "          google.colab.kernel.accessAllowed ? 'block' : 'none';\n",
              "\n",
              "        async function convertToInteractive(key) {\n",
              "          const element = document.querySelector('#df-86edbbb8-2a07-407e-88a7-929a134acfa0');\n",
              "          const dataTable =\n",
              "            await google.colab.kernel.invokeFunction('convertToInteractive',\n",
              "                                                     [key], {});\n",
              "          if (!dataTable) return;\n",
              "\n",
              "          const docLinkHtml = 'Like what you see? Visit the ' +\n",
              "            '<a target=\"_blank\" href=https://colab.research.google.com/notebooks/data_table.ipynb>data table notebook</a>'\n",
              "            + ' to learn more about interactive tables.';\n",
              "          element.innerHTML = '';\n",
              "          dataTable['output_type'] = 'display_data';\n",
              "          await google.colab.output.renderOutput(dataTable, element);\n",
              "          const docLink = document.createElement('div');\n",
              "          docLink.innerHTML = docLinkHtml;\n",
              "          element.appendChild(docLink);\n",
              "        }\n",
              "      </script>\n",
              "    </div>\n",
              "  </div>\n",
              "  "
            ]
          },
          "metadata": {},
          "execution_count": 5
        }
      ]
    },
    {
      "cell_type": "markdown",
      "metadata": {
        "id": "vMoxMcUMAsg7"
      },
      "source": [
        "Then we run statsmodel GLM setting the family to poisson and use a log link function with the poisson family. It defaults to the identity so be careful if using it. Like all the other types of regression approaches we have used so far we get the model results with the parameters and their significance levels. From the analysis below we can see that the P-value for the $\\chi^2$ is \\< 0.05 indicating that the model is significantly away from the staturated model or the model is missing soemthing."
      ]
    },
    {
      "cell_type": "code",
      "metadata": {
        "id": "3I9x2d84-48u",
        "outputId": "51362a54-e895-4fbc-c011-7447ad74cd91",
        "colab": {
          "base_uri": "https://localhost:8080/"
        }
      },
      "source": [
        "import statsmodels.api as sm\n",
        "from scipy.stats import chi2\n",
        "\n",
        "X_train = sm.add_constant(X_train)\n",
        "X_test = sm.add_constant(X_test)\n",
        "link_func = sm.families.links.log()\n",
        "\n",
        "\n",
        "poisson_training_results = sm.GLM(y_train, X_train, family=sm.families.Poisson(link_func)).fit()\n",
        "\n",
        "print(\"chi-square p-value test Ho model vs saturated model If < 0.05 reject Ho model is a poor fit. :\",1-chi2.cdf(poisson_training_results.pearson_chi2,(poisson_training_results.df_resid-len(X_train.columns))))\n",
        "print(poisson_training_results.summary())\n",
        "#print(y.describe())"
      ],
      "execution_count": null,
      "outputs": [
        {
          "output_type": "stream",
          "name": "stderr",
          "text": [
            "/usr/local/lib/python3.7/dist-packages/statsmodels/tools/_testing.py:19: FutureWarning: pandas.util.testing is deprecated. Use the functions in the public API at pandas.testing instead.\n",
            "  import pandas.util.testing as tm\n"
          ]
        },
        {
          "output_type": "stream",
          "name": "stdout",
          "text": [
            "chi-square p-value test Ho model vs saturated model If < 0.05 reject Ho model is a poor fit. : 0.0\n",
            "                 Generalized Linear Model Regression Results                  \n",
            "==============================================================================\n",
            "Dep. Variable:               BB_COUNT   No. Observations:                  171\n",
            "Model:                            GLM   Df Residuals:                      167\n",
            "Model Family:                 Poisson   Df Model:                            3\n",
            "Link Function:                    log   Scale:                          1.0000\n",
            "Method:                          IRLS   Log-Likelihood:                -12497.\n",
            "Date:                Sun, 27 Mar 2022   Deviance:                       23343.\n",
            "Time:                        14:48:15   Pearson chi2:                 2.29e+04\n",
            "No. Iterations:                     5                                         \n",
            "Covariance Type:            nonrobust                                         \n",
            "==============================================================================\n",
            "                 coef    std err          z      P>|z|      [0.025      0.975]\n",
            "------------------------------------------------------------------------------\n",
            "const          7.0860      0.011    629.514      0.000       7.064       7.108\n",
            "HIGH_T         0.0187      0.000     53.180      0.000       0.018       0.019\n",
            "LOW_T         -0.0082      0.000    -21.401      0.000      -0.009      -0.007\n",
            "PRECIP        -0.9291      0.009   -106.079      0.000      -0.946      -0.912\n",
            "==============================================================================\n"
          ]
        },
        {
          "output_type": "stream",
          "name": "stderr",
          "text": [
            "/usr/local/lib/python3.7/dist-packages/statsmodels/tsa/tsatools.py:117: FutureWarning: In a future version of pandas all arguments of concat except for the argument 'objs' will be keyword-only\n",
            "  x = pd.concat(x[::order], 1)\n",
            "/usr/local/lib/python3.7/dist-packages/ipykernel_launcher.py:7: DeprecationWarning: Calling Family(..) with a link class as argument is deprecated.\n",
            "Use an instance of a link class instead.\n",
            "  import sys\n"
          ]
        }
      ]
    },
    {
      "cell_type": "markdown",
      "metadata": {
        "id": "buhheds16ZLT"
      },
      "source": [
        "The model is far from ideal and this could be due to the assumption that in a poisson model the $\\mu$ $=\\sigma$. This does not seem to be the case when you run a pandas describe on the y dataframe.\n",
        "————————————————————————————————————————————————————————————————\n",
        "\n",
        "解读回归结果\n",
        "\n",
        "所有变量的 p 值（P>|z|）都小于 0.05，说明它们都对因变量 BB_COUNT 具有统计显著性。\n",
        "系数解释（用指数函数转换）：\n",
        "高温（HIGH_T）增加 1 单位，BB_COUNT 预计增长\n",
        "𝑒\n",
        "0.0187\n",
        "≈\n",
        "1.0188\n",
        "e\n",
        "0.0187\n",
        " ≈1.0188 倍（约 1.88%）。\n",
        "低温（LOW_T）增加 1 单位，BB_COUNT 预计减少\n",
        "𝑒\n",
        "−\n",
        "0.0082\n",
        "≈\n",
        "0.9918\n",
        "e\n",
        "−0.0082\n",
        " ≈0.9918 倍（减少约 0.82%）。\n",
        "降水（PRECIP）每增加 1 单位，BB_COUNT 预计减少\n",
        "𝑒\n",
        "−\n",
        "0.9291\n",
        "≈\n",
        "0.395\n",
        "e\n",
        "−0.9291\n",
        " ≈0.395 倍（约减少 60.5%）。\n",
        "\n",
        "\n",
        "\n",
        "\n",
        "在泊松分布（Poisson Distribution）中，它有一个特殊的性质：\n",
        "\n",
        "𝐸\n",
        "(\n",
        "𝑋\n",
        ")\n",
        "=\n",
        "𝜇\n",
        ",\n",
        "Var\n",
        "(\n",
        "𝑋\n",
        ")\n",
        "=\n",
        "𝜎\n",
        "2\n",
        "=\n",
        "𝜇\n",
        "E(X)=μ,Var(X)=σ\n",
        "2\n",
        " =μ\n",
        "\n",
        "\n",
        " 即，泊松分布的均值等于方差。\n",
        "\n",
        "\n",
        " 例子 假设某条道路上，每天发生平均\n",
        "𝜆\n",
        "=\n",
        "3\n",
        "λ=3 起交通事故：\n",
        "\n",
        "这条路每天事故数\n",
        "𝑋\n",
        "X 服从泊松分布\n",
        "𝑋\n",
        "∼\n",
        "Poisson\n",
        "(\n",
        "3\n",
        ")\n",
        "X∼Poisson(3)。\n",
        "事故数的均值\n",
        "𝐸\n",
        "(\n",
        "𝑋\n",
        ")\n",
        "=\n",
        "3\n",
        "E(X)=3。\n",
        "事故数的方差\n",
        "Var\n",
        "(\n",
        "𝑋\n",
        ")\n",
        "=\n",
        "3\n",
        "Var(X)=3。\n",
        "即，事故数的波动程度和均值相等。"
      ]
    },
    {
      "cell_type": "code",
      "metadata": {
        "id": "wZFTA017EveN",
        "outputId": "826497dc-c1d1-4de4-ea66-bc36e1a4f5d9",
        "colab": {
          "base_uri": "https://localhost:8080/"
        }
      },
      "source": [
        "poisson_predictions = poisson_training_results.get_prediction(X_test)\n",
        "\n",
        "predictions_summary_frame = poisson_predictions.summary_frame().sort_index()\n",
        "print(predictions_summary_frame.head())\n",
        "#predictions_summary_frame.to_csv('poisson_predictions.csv')"
      ],
      "execution_count": null,
      "outputs": [
        {
          "output_type": "stream",
          "name": "stdout",
          "text": [
            "                   mean    mean_se  mean_ci_lower  mean_ci_upper\n",
            "Date                                                            \n",
            "2017-04-10  3038.877337   8.590627    3022.086577    3055.761388\n",
            "2017-04-16  3490.364671  13.107450    3464.768853    3516.149577\n",
            "2017-04-17  2796.904450   5.247876    2786.637691    2807.209033\n",
            "2017-04-19  2168.563695   8.475612    2152.015266    2185.239378\n",
            "2017-04-26  1690.164080   6.383927    1677.698013    1702.722776\n"
          ]
        }
      ]
    },
    {
      "cell_type": "markdown",
      "metadata": {
        "id": "cA1BEIFcYjVf"
      },
      "source": [
        "In the following code snippet we do a comparsion of the  actual counts vs the predicted counts. You can see the model is not really a good fit and would lead us to believe something is missing."
      ]
    },
    {
      "cell_type": "code",
      "metadata": {
        "id": "feZLAkOGExgp",
        "outputId": "f3c7adc7-a6b1-4def-80b2-44e6c015758f",
        "colab": {
          "base_uri": "https://localhost:8080/",
          "height": 602
        }
      },
      "source": [
        "import matplotlib.pyplot as plt\n",
        "predicted_counts=predictions_summary_frame['mean']\n",
        "y_test=y_test.sort_index()\n",
        "X_test=X_test.sort_index()\n",
        "#print(y_test['BB_COUNT'],predicted_counts)\n",
        "actual_counts = y_test['BB_COUNT']\n",
        "fig = plt.figure()\n",
        "fig.suptitle('Predicted versus actual bicyclist counts on the Brooklyn bridge')\n",
        "predicted, = plt.plot(X_test.index, predicted_counts, 'go-', label='Predicted counts')\n",
        "actual, = plt.plot(X_test.index, actual_counts, 'ro-', label='Actual counts')\n",
        "plt.legend(handles=[predicted, actual])\n",
        "plt.show()\n",
        "\n",
        "plt.clf()\n",
        "fig = plt.figure()\n",
        "fig.suptitle('Scatter plot of Actual versus Predicted counts')\n",
        "plt.scatter(x=predicted_counts, y=actual_counts, marker='.')\n",
        "plt.xlabel('Predicted counts')\n",
        "plt.ylabel('Actual counts')\n",
        "plt.show()"
      ],
      "execution_count": null,
      "outputs": [
        {
          "output_type": "display_data",
          "data": {
            "text/plain": [
              "<Figure size 432x288 with 1 Axes>"
            ],
            "image/png": "[encoded data removed]"
          },
          "metadata": {
            "needs_background": "light"
          }
        },
        {
          "output_type": "display_data",
          "data": {
            "text/plain": [
              "<Figure size 432x288 with 0 Axes>"
            ]
          },
          "metadata": {}
        },
        {
          "output_type": "display_data",
          "data": {
            "text/plain": [
              "<Figure size 432x288 with 1 Axes>"
            ],
            "image/png": "[encoded data removed]"
          },
          "metadata": {
            "needs_background": "light"
          }
        }
      ]
    },
    {
      "cell_type": "markdown",
      "metadata": {
        "id": "icJUMLG9g6Vi"
      },
      "source": [
        "References:\n",
        "\n",
        "[1] Haight, F.A., 1967. Handbook of the Poisson distribution."
      ]
    }
  ]
}